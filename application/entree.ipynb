{
 "cells": [
  {
   "cell_type": "code",
   "execution_count": 1,
   "id": "26e1f876",
   "metadata": {},
   "outputs": [
    {
     "name": "stdout",
     "output_type": "stream",
     "text": [
      "Defaulting to user installation because normal site-packages is not writeable\n",
      "Requirement already satisfied: xmltodict in c:\\users\\mehdi\\appdata\\roaming\\python\\python311\\site-packages (0.13.0)\n"
     ]
    }
   ],
   "source": [
    "%load_ext autoreload\n",
    "%autoreload 2\n",
    "!pip install xmltodict\n"
   ]
  },
  {
   "cell_type": "code",
   "execution_count": null,
   "id": "834d2e42",
   "metadata": {},
   "outputs": [],
   "source": [
    "import ipywidgets as widgets\n",
    "from IPython.display import display, clear_output\n",
    "from Fonctions_Acquisition_Donnees import *\n",
    "from Classes import *\n",
    "\n",
    "\n",
    "\n",
    "# Fonction de rappel pour le bouton\n",
    "def on_bouton_executer_clicked(b):\n",
    "    with output:\n",
    "        clear_output(wait=True)  # Efface les anciens résultats\n",
    "        try:\n",
    "            if mot_cle_widget.value.strip() == '' or nom_corpus_widget.value.strip() == '' :\n",
    "                print(\"Veuillez entrer un mot-clé de recherche et attribuer un nom au resulat de la recherche.\")\n",
    "                return\n",
    "            print(f\"Recherche avec le mot-clé: '{mot_cle_widget.value}' pour {nombre_articles_widget.value} articles\")\n",
    "            resultat = appliquer_recherche(nom_corpus_widget.value, mot_cle_widget.value, nombre_articles_widget.value)\n",
    "            display(resultat)\n",
    "        except Exception as e:\n",
    "            print(f\"Une erreur s'est produite: {e}\")\n",
    "\n",
    "# Widgets\n",
    "\n",
    "nom_corpus_widget = widgets.Text(\n",
    "    value='',\n",
    "    description='Nom de la recheche',\n",
    "    disabled=False\n",
    ")\n",
    "mot_cle_widget = widgets.Text(\n",
    "    value='',\n",
    "    description='Séquence de recherche:',\n",
    "    disabled=False\n",
    ")\n",
    "\n",
    "nombre_articles_widget = widgets.IntSlider(\n",
    "    value=100,\n",
    "    min=0,\n",
    "    max=200,\n",
    "    step=10,\n",
    "    description='Volume extraction:',\n",
    "    disabled=False,\n",
    "    continuous_update=False,\n",
    "    orientation='horizontal',\n",
    "    readout=True,\n",
    "    readout_format='d'\n",
    ")\n",
    "\n",
    "bouton_executer = widgets.Button(\n",
    "    description='Exécuter',\n",
    "    disabled=False,\n",
    "    button_style='info',\n",
    "    tooltip='Cliquer ici pour lancer la recherche',\n",
    "    icon='search'\n",
    ")\n",
    "\n",
    "# Zone d'affichage des résultats\n",
    "output = widgets.Output()\n",
    "\n",
    "# Configuration des événements\n",
    "bouton_executer.on_click(on_bouton_executer_clicked)\n",
    "\n",
    "# Mise en page\n",
    "widgets.VBox([nom_corpus_widget,mot_cle_widget, nombre_articles_widget, bouton_executer, output])\n"
   ]
  },
  {
   "cell_type": "code",
   "execution_count": 3,
   "id": "9d8b62c9",
   "metadata": {},
   "outputs": [],
   "source": [
    "corpus_python = Corpus.load('data/dossier.pkl')"
   ]
  },
  {
   "cell_type": "code",
   "execution_count": 4,
   "id": "beb05f57",
   "metadata": {},
   "outputs": [
    {
     "name": "stdout",
     "output_type": "stream",
     "text": [
      "                                              Document     Score\n",
      "99   X-ViT: High Performance Linear Vision Transfor...  0.088781\n",
      "97   UFO-ViT: High Performance Linear Vision Transf...  0.087679\n",
      "93   Learning Synergistic Attention for Light Field...  0.086042\n",
      "72   SA-Net: Shuffle Attention for Deep Convolution...  0.049959\n",
      "10   Using Eye-tracking Data to Predict Situation A...  0.045651\n",
      "33   Relationships between Software Architecture an...  0.039059\n",
      "0    Investigating Explanations in Conditional and ...  0.000000\n",
      "137                               SAS pricing tomorrow  0.000000\n",
      "129                                     Coffee and sas  0.000000\n",
      "130  I said to delete the data not destroy 4 SAS Disks  0.000000\n"
     ]
    }
   ],
   "source": [
    "mot_cle = \"code classe compile\"\n",
    "resultats = corpus_python.rechercher_documents(mot_cle)\n",
    "print(resultats.head(10))  # Afficher les 10 premiers résultats"
   ]
  },
  {
   "cell_type": "code",
   "execution_count": 19,
   "id": "577c25d1",
   "metadata": {},
   "outputs": [],
   "source": [
    "vocabulaire = corpus_python.construire_vocabulaire()"
   ]
  },
  {
   "cell_type": "code",
   "execution_count": 20,
   "id": "3addd680",
   "metadata": {},
   "outputs": [
    {
     "data": {
      "text/plain": [
       "3205"
      ]
     },
     "execution_count": 20,
     "metadata": {},
     "output_type": "execute_result"
    }
   ],
   "source": [
    "len(vocabulaire)"
   ]
  }
 ],
 "metadata": {
  "kernelspec": {
   "display_name": "Python 3 (ipykernel)",
   "language": "python",
   "name": "python3"
  },
  "language_info": {
   "codemirror_mode": {
    "name": "ipython",
    "version": 3
   },
   "file_extension": ".py",
   "mimetype": "text/x-python",
   "name": "python",
   "nbconvert_exporter": "python",
   "pygments_lexer": "ipython3",
   "version": "3.11.4"
  }
 },
 "nbformat": 4,
 "nbformat_minor": 5
}
