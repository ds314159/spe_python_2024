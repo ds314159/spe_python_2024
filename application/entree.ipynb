{
 "cells": [
  {
   "cell_type": "code",
   "execution_count": 1,
   "id": "26e1f876",
   "metadata": {
    "ExecuteTime": {
     "end_time": "2024-01-03T10:22:24.673415500Z",
     "start_time": "2024-01-03T10:22:24.452747Z"
    },
    "scrolled": true
   },
   "outputs": [],
   "source": [
    "%load_ext autoreload\n",
    "%autoreload 2\n",
    "from Classe_Interface import *\n",
    "from IPython.display import display, clear_output\n",
    "import warnings\n",
    "warnings.filterwarnings('ignore')\n",
    "interface = Interface()"
   ]
  },
  {
   "cell_type": "markdown",
   "id": "32d08773",
   "metadata": {},
   "source": [
    "# Construire et sauvegarder des Corpus\n"
   ]
  },
  {
   "cell_type": "code",
   "execution_count": 63,
   "id": "20a6c4c4",
   "metadata": {
    "ExecuteTime": {
     "end_time": "2024-01-03T10:22:28.419597300Z",
     "start_time": "2024-01-03T10:22:28.150056300Z"
    }
   },
   "outputs": [
    {
     "data": {
      "application/vnd.jupyter.widget-view+json": {
       "model_id": "c72d660450d742d1bcc74d5c13e18b1d",
       "version_major": 2,
       "version_minor": 0
      },
      "text/plain": [
       "VBox(children=(Text(value='', description='Nom de la recherche:', layout=Layout(width='500px'), style=TextStyl…"
      ]
     },
     "execution_count": 63,
     "metadata": {},
     "output_type": "execute_result"
    }
   ],
   "source": [
    "interface.creer_interface_recherche_corpus()"
   ]
  },
  {
   "cell_type": "markdown",
   "id": "f726e940",
   "metadata": {},
   "source": [
    "# Choisir un Corpus de Travail"
   ]
  },
  {
   "cell_type": "code",
   "execution_count": 2,
   "id": "bba4b7bb",
   "metadata": {
    "ExecuteTime": {
     "end_time": "2024-01-02T22:53:18.067376600Z",
     "start_time": "2024-01-02T22:53:17.529870300Z"
    }
   },
   "outputs": [
    {
     "data": {
      "application/vnd.jupyter.widget-view+json": {
       "model_id": "a2825bedd9674bd2bc16edd1039fe688",
       "version_major": 2,
       "version_minor": 0
      },
      "text/plain": [
       "VBox(children=(Select(description='Choisir un corpus:', options=('chimie.pkl', 'happyness.pkl', 'khgcv.pkl', '…"
      ]
     },
     "execution_count": 2,
     "metadata": {},
     "output_type": "execute_result"
    }
   ],
   "source": [
    "interface.creer_interface_chargement_corpus()\n"
   ]
  },
  {
   "cell_type": "markdown",
   "id": "69af8966",
   "metadata": {},
   "source": [
    "# Observation et analyse"
   ]
  },
  {
   "cell_type": "code",
   "execution_count": 6,
   "id": "a44d2991",
   "metadata": {},
   "outputs": [
    {
     "data": {
      "application/vnd.jupyter.widget-view+json": {
       "model_id": "bc88158bbba04c39afc713316b9c1414",
       "version_major": 2,
       "version_minor": 0
      },
      "text/plain": [
       "VBox(children=(IntSlider(value=200, description='Choisir le nombre de mots à afficher dans le nuage:', layout=…"
      ]
     },
     "execution_count": 6,
     "metadata": {},
     "output_type": "execute_result"
    }
   ],
   "source": [
    "interface.construire_vision_ensemble_corpus()"
   ]
  },
  {
   "cell_type": "markdown",
   "id": "299a41ea",
   "metadata": {},
   "source": [
    "# recherche d'une séquence particulière"
   ]
  },
  {
   "cell_type": "code",
   "execution_count": 7,
   "id": "68f929ac",
   "metadata": {},
   "outputs": [
    {
     "data": {
      "application/vnd.jupyter.widget-view+json": {
       "model_id": "a8799c90a9ed4ec7ae84d9b7c04efc5c",
       "version_major": 2,
       "version_minor": 0
      },
      "text/plain": [
       "VBox(children=(Text(value='', description='Séquence de recherche:', layout=Layout(width='500px'), style=TextSt…"
      ]
     },
     "execution_count": 7,
     "metadata": {},
     "output_type": "execute_result"
    }
   ],
   "source": [
    "interface.construire_recherche_sequence_dans_corpus()"
   ]
  },
  {
   "cell_type": "code",
   "execution_count": 8,
   "id": "d8a2ca81",
   "metadata": {},
   "outputs": [
    {
     "data": {
      "application/vnd.jupyter.widget-view+json": {
       "model_id": "438f2c39c76b4e2986fce61f183a9c48",
       "version_major": 2,
       "version_minor": 0
      },
      "text/plain": [
       "VBox(children=(Text(value='', description='Expression:', layout=Layout(width='500px'), style=TextStyle(descrip…"
      ]
     },
     "execution_count": 8,
     "metadata": {},
     "output_type": "execute_result"
    }
   ],
   "source": [
    "interface.construire_interface_concorde()"
   ]
  },
  {
   "cell_type": "code",
   "execution_count": 9,
   "id": "1e92c5bb",
   "metadata": {},
   "outputs": [
    {
     "data": {
      "application/vnd.jupyter.widget-view+json": {
       "model_id": "dee1aa1b26de4c20aa703f051085c848",
       "version_major": 2,
       "version_minor": 0
      },
      "text/plain": [
       "VBox(children=(DatePicker(value=None, description='Choisir une date:', layout=Layout(width='500px'), step=1, s…"
      ]
     },
     "execution_count": 9,
     "metadata": {},
     "output_type": "execute_result"
    }
   ],
   "source": [
    "interface.diviser_et_afficher_sous_corpus()"
   ]
  }
 ],
 "metadata": {
  "kernelspec": {
   "display_name": "Python 3 (ipykernel)",
   "language": "python",
   "name": "python3"
  },
  "language_info": {
   "codemirror_mode": {
    "name": "ipython",
    "version": 3
   },
   "file_extension": ".py",
   "mimetype": "text/x-python",
   "name": "python",
   "nbconvert_exporter": "python",
   "pygments_lexer": "ipython3",
   "version": "3.11.4"
  }
 },
 "nbformat": 4,
 "nbformat_minor": 5
}
