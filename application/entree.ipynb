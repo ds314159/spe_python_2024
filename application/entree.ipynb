{
 "cells": [
  {
   "cell_type": "code",
   "execution_count": null,
   "id": "26e1f876",
   "metadata": {},
   "outputs": [],
   "source": [
    "%load_ext autoreload\n",
    "%autoreload 2\n",
    "!pip install xmltodict\n"
   ]
  },
  {
   "cell_type": "code",
   "execution_count": 4,
   "id": "71d04eaf",
   "metadata": {},
   "outputs": [],
   "source": []
  },
  {
   "cell_type": "code",
   "execution_count": 5,
   "id": "834d2e42",
   "metadata": {},
   "outputs": [
    {
     "data": {
      "application/vnd.jupyter.widget-view+json": {
       "model_id": "139300d747334137a41e52dbedacac76",
       "version_major": 2,
       "version_minor": 0
      },
      "text/plain": [
       "VBox(children=(Text(value='', description='Nom de la recheche'), Text(value='', description='Séquence de reche…"
      ]
     },
     "execution_count": 5,
     "metadata": {},
     "output_type": "execute_result"
    }
   ],
   "source": [
    "import ipywidgets as widgets\n",
    "from IPython.display import display, clear_output\n",
    "from Fonctions_Acquisition_Donnees import *\n",
    "from Classes import *\n",
    "\n",
    "\n",
    "\n",
    "# Fonction de rappel pour le bouton\n",
    "def on_bouton_executer_clicked(b):\n",
    "    with output:\n",
    "        clear_output(wait=True)  # Efface les anciens résultats\n",
    "        try:\n",
    "            if mot_cle_widget.value.strip() == '' or nom_corpus_widget.value.strip() == '' :\n",
    "                print(\"Veuillez entrer un mot-clé de recherche et attribuer un nom au resulat de la recherche.\")\n",
    "                return\n",
    "            print(f\"Recherche avec le mot-clé: '{mot_cle_widget.value}' pour {nombre_articles_widget.value} articles\")\n",
    "            resultat = appliquer_recherche(nom_corpus_widget.value, mot_cle_widget.value, nombre_articles_widget.value)\n",
    "            display(resultat)\n",
    "        except Exception as e:\n",
    "            print(f\"Une erreur s'est produite: {e}\")\n",
    "\n",
    "# Widgets\n",
    "\n",
    "nom_corpus_widget = widgets.Text(\n",
    "    value='',\n",
    "    description='Nom de la recheche',\n",
    "    disabled=False\n",
    ")\n",
    "mot_cle_widget = widgets.Text(\n",
    "    value='',\n",
    "    description='Séquence de recherche:',\n",
    "    disabled=False\n",
    ")\n",
    "\n",
    "nombre_articles_widget = widgets.IntSlider(\n",
    "    value=100,\n",
    "    min=0,\n",
    "    max=200,\n",
    "    step=10,\n",
    "    description='Volume extraction:',\n",
    "    disabled=False,\n",
    "    continuous_update=False,\n",
    "    orientation='horizontal',\n",
    "    readout=True,\n",
    "    readout_format='d'\n",
    ")\n",
    "\n",
    "bouton_executer = widgets.Button(\n",
    "    description='Exécuter',\n",
    "    disabled=False,\n",
    "    button_style='info',\n",
    "    tooltip='Cliquer ici pour lancer la recherche',\n",
    "    icon='search'\n",
    ")\n",
    "\n",
    "# Zone d'affichage des résultats\n",
    "output = widgets.Output()\n",
    "\n",
    "# Configuration des événements\n",
    "bouton_executer.on_click(on_bouton_executer_clicked)\n",
    "\n",
    "# Mise en page\n",
    "widgets.VBox([nom_corpus_widget,mot_cle_widget, nombre_articles_widget, bouton_executer, output])\n"
   ]
  },
  {
   "cell_type": "code",
   "execution_count": 10,
   "id": "9d8b62c9",
   "metadata": {},
   "outputs": [],
   "source": [
    "corpus_python = Corpus.load('data/python2.pkl')"
   ]
  },
  {
   "cell_type": "code",
   "execution_count": null,
   "id": "beb05f57",
   "metadata": {},
   "outputs": [],
   "source": []
  },
  {
   "cell_type": "code",
   "execution_count": 19,
   "id": "577c25d1",
   "metadata": {},
   "outputs": [],
   "source": []
  },
  {
   "cell_type": "code",
   "execution_count": null,
   "id": "3addd680",
   "metadata": {},
   "outputs": [],
   "source": []
  },
  {
   "cell_type": "code",
   "execution_count": 34,
   "id": "70f6a8bb",
   "metadata": {},
   "outputs": [],
   "source": []
  },
  {
   "cell_type": "code",
   "execution_count": null,
   "id": "06161a06",
   "metadata": {},
   "outputs": [],
   "source": []
  },
  {
   "cell_type": "code",
   "execution_count": null,
   "id": "5816224f",
   "metadata": {},
   "outputs": [],
   "source": []
  }
 ],
 "metadata": {
  "kernelspec": {
   "display_name": "Python 3 (ipykernel)",
   "language": "python",
   "name": "python3"
  },
  "language_info": {
   "codemirror_mode": {
    "name": "ipython",
    "version": 3
   },
   "file_extension": ".py",
   "mimetype": "text/x-python",
   "name": "python",
   "nbconvert_exporter": "python",
   "pygments_lexer": "ipython3",
   "version": "3.10.13"
  }
 },
 "nbformat": 4,
 "nbformat_minor": 5
}
