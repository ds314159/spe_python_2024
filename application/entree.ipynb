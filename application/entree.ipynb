{
 "cells": [
  {
   "cell_type": "code",
   "execution_count": 1,
   "id": "26e1f876",
   "metadata": {
    "ExecuteTime": {
     "end_time": "2024-01-02T22:51:31.756244300Z",
     "start_time": "2024-01-02T22:51:16.581365700Z"
    }
   },
   "outputs": [],
   "source": [
    "%load_ext autoreload\n",
    "%autoreload 2\n",
    "from Fonctions_Interface import *\n",
    "from IPython.display import display, clear_output\n",
    "import warnings\n",
    "warnings.filterwarnings('ignore')\n",
    "\n"
   ]
  },
  {
   "cell_type": "code",
   "execution_count": 2,
   "id": "20a6c4c4",
   "metadata": {
    "ExecuteTime": {
     "end_time": "2024-01-02T22:51:43.460835200Z",
     "start_time": "2024-01-02T22:51:41.535923800Z"
    }
   },
   "outputs": [
    {
     "data": {
      "text/plain": "VBox(children=(Text(value='', description='Nom de la recherche:    ', layout=Layout(width='500px'), style=Text…",
      "application/vnd.jupyter.widget-view+json": {
       "version_major": 2,
       "version_minor": 0,
       "model_id": "f39267952f394f8eaa72e2413ba50a2c"
      }
     },
     "execution_count": 2,
     "metadata": {},
     "output_type": "execute_result"
    }
   ],
   "source": [
    "creer_interface_recherche_corpus()"
   ]
  },
  {
   "cell_type": "code",
   "execution_count": 3,
   "id": "bba4b7bb",
   "metadata": {
    "ExecuteTime": {
     "end_time": "2024-01-02T22:53:18.067376600Z",
     "start_time": "2024-01-02T22:53:17.529870300Z"
    }
   },
   "outputs": [
    {
     "data": {
      "text/plain": "VBox(children=(Select(description='Choisir un corpus:', options=('dossier.pkl', 'python4.pkl', 'recherche 1.pk…",
      "application/vnd.jupyter.widget-view+json": {
       "version_major": 2,
       "version_minor": 0,
       "model_id": "5bd863df30df4aa7a656dfa6605decf9"
      }
     },
     "execution_count": 3,
     "metadata": {},
     "output_type": "execute_result"
    }
   ],
   "source": [
    "creer_interface_chargement_corpus()"
   ]
  },
  {
   "cell_type": "code",
   "execution_count": null,
   "id": "a44d2991",
   "metadata": {},
   "outputs": [],
   "source": []
  },
  {
   "cell_type": "code",
   "execution_count": null,
   "id": "a33174d8",
   "metadata": {},
   "outputs": [],
   "source": []
  },
  {
   "cell_type": "code",
   "execution_count": null,
   "id": "68f929ac",
   "metadata": {},
   "outputs": [],
   "source": []
  },
  {
   "cell_type": "code",
   "execution_count": null,
   "id": "d8a2ca81",
   "metadata": {},
   "outputs": [],
   "source": []
  },
  {
   "cell_type": "code",
   "execution_count": null,
   "id": "1e92c5bb",
   "metadata": {},
   "outputs": [],
   "source": []
  }
 ],
 "metadata": {
  "kernelspec": {
   "display_name": "Python 3 (ipykernel)",
   "language": "python",
   "name": "python3"
  },
  "language_info": {
   "codemirror_mode": {
    "name": "ipython",
    "version": 3
   },
   "file_extension": ".py",
   "mimetype": "text/x-python",
   "name": "python",
   "nbconvert_exporter": "python",
   "pygments_lexer": "ipython3",
   "version": "3.11.4"
  }
 },
 "nbformat": 4,
 "nbformat_minor": 5
}
