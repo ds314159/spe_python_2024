{
 "cells": [
  {
   "cell_type": "code",
   "execution_count": 1,
   "id": "26e1f876",
   "metadata": {
    "ExecuteTime": {
     "end_time": "2024-01-03T10:22:24.673415500Z",
     "start_time": "2024-01-03T10:22:24.452747Z"
    },
    "scrolled": true
   },
   "outputs": [],
   "source": [
    "from Classe_Interface import *\n",
    "from IPython.display import display, clear_output\n",
    "interface = Interface()"
   ]
  },
  {
   "cell_type": "markdown",
   "id": "32d08773",
   "metadata": {},
   "source": [
    "# Construire et Sauvegarder des Corpus\n",
    "\n",
    "Cette première fonctionnalité permet de récolter les document et de les sauvegarder sous forme de Corpus,\n",
    "dans le repertoire \"data\""
   ]
  },
  {
   "cell_type": "code",
   "execution_count": 2,
   "id": "20a6c4c4",
   "metadata": {
    "ExecuteTime": {
     "end_time": "2024-01-03T10:22:28.419597300Z",
     "start_time": "2024-01-03T10:22:28.150056300Z"
    }
   },
   "outputs": [
    {
     "data": {
      "application/vnd.jupyter.widget-view+json": {
       "model_id": "7eb285c0584248eda5b6afd4e7e6af74",
       "version_major": 2,
       "version_minor": 0
      },
      "text/plain": [
       "VBox(children=(Text(value='', description='Nom de la recherche:', layout=Layout(width='500px'), style=TextStyl…"
      ]
     },
     "execution_count": 2,
     "metadata": {},
     "output_type": "execute_result"
    }
   ],
   "source": [
    "interface.rechercher_documents_creer_corpus()"
   ]
  },
  {
   "cell_type": "markdown",
   "id": "f726e940",
   "metadata": {},
   "source": [
    "# Choisir un Corpus de Travail\n",
    "\n",
    "Après avoir construit plusieurs corpus, il convient d'en choisir un, afin de l'analyser."
   ]
  },
  {
   "cell_type": "code",
   "execution_count": 3,
   "id": "bba4b7bb",
   "metadata": {
    "ExecuteTime": {
     "end_time": "2024-01-02T22:53:18.067376600Z",
     "start_time": "2024-01-02T22:53:17.529870300Z"
    }
   },
   "outputs": [
    {
     "data": {
      "application/vnd.jupyter.widget-view+json": {
       "model_id": "195a48986d9b4cd8a18d716694a9911d",
       "version_major": 2,
       "version_minor": 0
      },
      "text/plain": [
       "VBox(children=(Select(description='Choisir :', options=('corpus_1.pkl', 'corpus_2.pkl', 'corpus_3.pkl', 'corpu…"
      ]
     },
     "execution_count": 3,
     "metadata": {},
     "output_type": "execute_result"
    }
   ],
   "source": [
    "interface.choisir_charger_corpus_de_travail()\n"
   ]
  },
  {
   "cell_type": "markdown",
   "id": "69af8966",
   "metadata": {},
   "source": [
    "# Vision d'Ensemble du Corpus de Travail\n",
    "\n",
    "Avoir un premier aperçu du Corpus de travail:\n",
    "\n",
    "- Des informations sommaires de sa composition\n",
    "- Un nuage representant ses termes fréquents"
   ]
  },
  {
   "cell_type": "code",
   "execution_count": 4,
   "id": "a44d2991",
   "metadata": {},
   "outputs": [
    {
     "data": {
      "application/vnd.jupyter.widget-view+json": {
       "model_id": "47f407108e6548d894e3ea53e0b61740",
       "version_major": 2,
       "version_minor": 0
      },
      "text/plain": [
       "VBox(children=(IntSlider(value=200, description='Nombre de mots à intègrer:', layout=Layout(width='400px'), ma…"
      ]
     },
     "execution_count": 4,
     "metadata": {},
     "output_type": "execute_result"
    }
   ],
   "source": [
    "interface.vision_d_ensemble_du_Corpus()"
   ]
  },
  {
   "cell_type": "markdown",
   "id": "299a41ea",
   "metadata": {},
   "source": [
    "# Moteur de Recherche de Documents dans le Corpus de Travail\n",
    "\n",
    "La recherche est basée sur une séquence textuelle, \n",
    "Le moteur permet de  :\n",
    "\n",
    "- Trouve les documents les plus pertinents pour la séquence de recherche\n",
    "- Affiche les résultats : indexes et titres des documents\n",
    "- Accéder à l'article en cliquant sur le Titre\n",
    "\n",
    "\n",
    "\n"
   ]
  },
  {
   "cell_type": "code",
   "execution_count": 5,
   "id": "68f929ac",
   "metadata": {},
   "outputs": [
    {
     "data": {
      "application/vnd.jupyter.widget-view+json": {
       "model_id": "162cccef2d5c413cbffc28f530e8f34d",
       "version_major": 2,
       "version_minor": 0
      },
      "text/plain": [
       "VBox(children=(Text(value='', description='Séquence de recherche:', layout=Layout(width='500px'), style=TextSt…"
      ]
     },
     "execution_count": 5,
     "metadata": {},
     "output_type": "execute_result"
    }
   ],
   "source": [
    "interface.moteur_de_recherche()"
   ]
  },
  {
   "cell_type": "markdown",
   "id": "f3fa7c13",
   "metadata": {},
   "source": [
    "# Concordancier d'une Expression\n",
    "\n",
    "Renvoie un tableau interactif des concordances:\n",
    "\n",
    "- Appuyer sur page suivante pour voir les concordances suivantes\n",
    "- Appuyer sur page précédente pour revenir en arrière"
   ]
  },
  {
   "cell_type": "code",
   "execution_count": 6,
   "id": "d8a2ca81",
   "metadata": {},
   "outputs": [
    {
     "data": {
      "application/vnd.jupyter.widget-view+json": {
       "model_id": "5570adf87c984600af39aadc9ea605aa",
       "version_major": 2,
       "version_minor": 0
      },
      "text/plain": [
       "VBox(children=(Text(value='', description='Expression:', layout=Layout(width='500px'), style=TextStyle(descrip…"
      ]
     },
     "execution_count": 6,
     "metadata": {},
     "output_type": "execute_result"
    }
   ],
   "source": [
    "interface.concordancier()"
   ]
  },
  {
   "cell_type": "markdown",
   "id": "eb312930",
   "metadata": {},
   "source": [
    "# Séparation du Corpus de Travail en Deux Sous Corpus, suivant  Date \n",
    "\n",
    "Permet de:\n",
    "\n",
    "- Construire (dans l'environnement d'exécution), deux sous corpus ( de type Corpus), l'un conteneant \n",
    "les publications d'avant la date précisée, l'autre les documents publiés après.\n",
    "\n",
    "\n",
    "\n",
    "- Afficher une vision globale de chaque sous corpus."
   ]
  },
  {
   "cell_type": "code",
   "execution_count": 7,
   "id": "1e92c5bb",
   "metadata": {},
   "outputs": [
    {
     "data": {
      "application/vnd.jupyter.widget-view+json": {
       "model_id": "0770fa79ca9349a0833a017597ddc0e2",
       "version_major": 2,
       "version_minor": 0
      },
      "text/plain": [
       "VBox(children=(DatePicker(value=None, description='Choisir une date:', layout=Layout(width='500px'), step=1, s…"
      ]
     },
     "execution_count": 7,
     "metadata": {},
     "output_type": "execute_result"
    }
   ],
   "source": [
    "interface.diviser_et_presenter_selon_date()"
   ]
  },
  {
   "cell_type": "markdown",
   "id": "caad8ea8",
   "metadata": {},
   "source": [
    "# Comparer la Fréquence des Mots entre Sous Corpus\n",
    "\n",
    "Permet de comparer le nombre d'occurences des mots les plus fréquents entre les deux sous corpus:\n",
    "- L'usager fixe le nombre de mots à comparer"
   ]
  },
  {
   "cell_type": "code",
   "execution_count": 8,
   "id": "c15d059a",
   "metadata": {},
   "outputs": [
    {
     "data": {
      "application/vnd.jupyter.widget-view+json": {
       "model_id": "a8b51d5be25b4e74a4f8d0a93fdb6b8a",
       "version_major": 2,
       "version_minor": 0
      },
      "text/plain": [
       "VBox(children=(IntSlider(value=10, description='Nombre de mots à comparer:', layout=Layout(width='400px'), max…"
      ]
     },
     "execution_count": 8,
     "metadata": {},
     "output_type": "execute_result"
    }
   ],
   "source": [
    "interface.comparer_occurences_mots_frequents()"
   ]
  },
  {
   "cell_type": "markdown",
   "id": "86c263e7",
   "metadata": {},
   "source": [
    "# Comparer la Fréquence de Mots Spécifiés Entre Sous Corpus\n",
    "\n",
    "Permet à l'usager de spécifier une liste de mots dont il souhaite comparer les occurances entre les deux sous Corpus\n",
    "\n",
    "- La liste de mots est à rentrer sous forme de mots séparés par une virgule"
   ]
  },
  {
   "cell_type": "code",
   "execution_count": 9,
   "id": "cce57d34",
   "metadata": {},
   "outputs": [
    {
     "data": {
      "application/vnd.jupyter.widget-view+json": {
       "model_id": "9b8dcc37394f4cc796bdeede9f307b13",
       "version_major": 2,
       "version_minor": 0
      },
      "text/plain": [
       "VBox(children=(Text(value='', description='Mots à comparer (séparés par des virgules):', layout=Layout(width='…"
      ]
     },
     "execution_count": 9,
     "metadata": {},
     "output_type": "execute_result"
    }
   ],
   "source": [
    "interface.comparer_occurences_liste_de_mots()"
   ]
  },
  {
   "cell_type": "markdown",
   "id": "f0cc8d57",
   "metadata": {},
   "source": [
    "# Comparer les Co-Occurences Entre Les Sous Corpus\n",
    "\n",
    "Permet de calculer et visualiser les co-occurences d'une liste de mots entre les deux sous Corpus\n",
    "- Liste à rentrer sous forme de mots séparés par une virgule"
   ]
  },
  {
   "cell_type": "code",
   "execution_count": 10,
   "id": "c5676d9b",
   "metadata": {},
   "outputs": [
    {
     "data": {
      "application/vnd.jupyter.widget-view+json": {
       "model_id": "9bcc833501824bac8ef38264005b08c9",
       "version_major": 2,
       "version_minor": 0
      },
      "text/plain": [
       "Text(value='', description='Mots :')"
      ]
     },
     "metadata": {},
     "output_type": "display_data"
    },
    {
     "data": {
      "application/vnd.jupyter.widget-view+json": {
       "model_id": "2fa636d417e84e2389177928a723ff83",
       "version_major": 2,
       "version_minor": 0
      },
      "text/plain": [
       "Button(description='Calculer', style=ButtonStyle())"
      ]
     },
     "metadata": {},
     "output_type": "display_data"
    },
    {
     "data": {
      "application/vnd.jupyter.widget-view+json": {
       "model_id": "76e01baf5a004928aa14b0cb5fbccb52",
       "version_major": 2,
       "version_minor": 0
      },
      "text/plain": [
       "Output()"
      ]
     },
     "metadata": {},
     "output_type": "display_data"
    }
   ],
   "source": [
    "interface.calculer_et_afficher_cooccurrences()"
   ]
  },
  {
   "cell_type": "markdown",
   "id": "73f05cd2",
   "metadata": {},
   "source": [
    "# Choisir et Afficher un Document, l'Annoter\n",
    "\n",
    "Permet de \n",
    "\n",
    "- Visualiser un document\n",
    "\n",
    "- L'annoter, avec possibilité d'attribuer une position (numéro de ligne) à l'annotation\n",
    "\n",
    "- La sauvegarde en local de ces changement se fera en dernier lieu\n"
   ]
  },
  {
   "cell_type": "code",
   "execution_count": 11,
   "id": "e425f118",
   "metadata": {},
   "outputs": [
    {
     "data": {
      "application/vnd.jupyter.widget-view+json": {
       "model_id": "17ffa1f0a3cb48e183d2a8b7eccb70e6",
       "version_major": 2,
       "version_minor": 0
      },
      "text/plain": [
       "VBox(children=(IntText(value=0, description='Index du Document:', layout=Layout(width='500px'), style=Descript…"
      ]
     },
     "execution_count": 11,
     "metadata": {},
     "output_type": "execute_result"
    }
   ],
   "source": [
    "interface.affichage_et_annotation()"
   ]
  },
  {
   "cell_type": "markdown",
   "id": "c085115e",
   "metadata": {},
   "source": [
    "# Sauvegarder Les Modifications"
   ]
  },
  {
   "cell_type": "code",
   "execution_count": 12,
   "id": "9662aa3b",
   "metadata": {},
   "outputs": [
    {
     "data": {
      "application/vnd.jupyter.widget-view+json": {
       "model_id": "8662307c7efa4eb4a1249d8ebd09ed38",
       "version_major": 2,
       "version_minor": 0
      },
      "text/plain": [
       "VBox(children=(Button(description='Sauvegarder', style=ButtonStyle()), Output()))"
      ]
     },
     "execution_count": 12,
     "metadata": {},
     "output_type": "execute_result"
    }
   ],
   "source": [
    "interface.sauvegarde_corpus()"
   ]
  }
 ],
 "metadata": {
  "kernelspec": {
   "display_name": "Python 3 (ipykernel)",
   "language": "python",
   "name": "python3"
  },
  "language_info": {
   "codemirror_mode": {
    "name": "ipython",
    "version": 3
   },
   "file_extension": ".py",
   "mimetype": "text/x-python",
   "name": "python",
   "nbconvert_exporter": "python",
   "pygments_lexer": "ipython3",
   "version": "3.11.4"
  }
 },
 "nbformat": 4,
 "nbformat_minor": 5
}
