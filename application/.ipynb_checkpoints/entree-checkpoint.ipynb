{
 "cells": [
  {
   "cell_type": "code",
   "execution_count": 22,
   "id": "26e1f876",
   "metadata": {},
   "outputs": [
    {
     "name": "stdout",
     "output_type": "stream",
     "text": [
      "The autoreload extension is already loaded. To reload it, use:\n",
      "  %reload_ext autoreload\n"
     ]
    },
    {
     "data": {
      "text/plain": [
       "Corpus 'recherche4' contenant 200 documents et 191 auteurs."
      ]
     },
     "metadata": {},
     "output_type": "display_data"
    }
   ],
   "source": [
    "%load_ext autoreload\n",
    "%autoreload 2\n",
    "from Fonctions_Acquisition_Donnees import *\n",
    "from IPython.display import display\n",
    "\n",
    "\n",
    "display(ex2)"
   ]
  },
  {
   "cell_type": "code",
   "execution_count": null,
   "id": "b1ca263c",
   "metadata": {},
   "outputs": [],
   "source": []
  },
  {
   "cell_type": "code",
   "execution_count": null,
   "id": "8bc6538e",
   "metadata": {},
   "outputs": [],
   "source": []
  },
  {
   "cell_type": "code",
   "execution_count": null,
   "id": "141b442c",
   "metadata": {},
   "outputs": [],
   "source": []
  },
  {
   "cell_type": "code",
   "execution_count": 9,
   "id": "e15d5854",
   "metadata": {},
   "outputs": [
    {
     "data": {
      "application/vnd.jupyter.widget-view+json": {
       "model_id": "1f86e16e2274441197ad700fb1882995",
       "version_major": 2,
       "version_minor": 0
      },
      "text/plain": [
       "Text(value='', description='Séquence de recherche:')"
      ]
     },
     "metadata": {},
     "output_type": "display_data"
    },
    {
     "data": {
      "application/vnd.jupyter.widget-view+json": {
       "model_id": "4364c271e8f9413fa158b88b857027b2",
       "version_major": 2,
       "version_minor": 0
      },
      "text/plain": [
       "IntSlider(value=100, continuous_update=False, description='volume extraction', max=200, step=10)"
      ]
     },
     "metadata": {},
     "output_type": "display_data"
    },
    {
     "data": {
      "application/vnd.jupyter.widget-view+json": {
       "model_id": "b386bcd3b0b945a2828e87952f4f29c9",
       "version_major": 2,
       "version_minor": 0
      },
      "text/plain": [
       "Button(button_style='info', description='Exécuter', icon='check', style=ButtonStyle(), tooltip='Cliquez ici po…"
      ]
     },
     "metadata": {},
     "output_type": "display_data"
    },
    {
     "name": "stdout",
     "output_type": "stream",
     "text": [
      "Recherche avec le mot-clé:  pour 100 articles\n"
     ]
    }
   ],
   "source": [
    "import ipywidgets as widgets\n",
    "from IPython.display import display\n",
    "\n",
    "# Créer des widgets pour la configuration\n",
    "mot_cle_widget = widgets.Text(\n",
    "    value='',\n",
    "    description='Séquence de recherche:',\n",
    "    disabled=False\n",
    ")\n",
    "\n",
    "nombre_articles_widget = widgets.IntSlider(\n",
    "    value=100,\n",
    "    min=0,\n",
    "    max=200,\n",
    "    step=10,\n",
    "    description='volume extraction',\n",
    "    disabled=False,\n",
    "    continuous_update=False,\n",
    "    orientation='horizontal',\n",
    "    readout=True,\n",
    "    readout_format='d'\n",
    ")\n",
    "\n",
    "# Créer un bouton pour lancer la recherche\n",
    "bouton_executer = widgets.Button(\n",
    "    description='Exécuter',\n",
    "    disabled=False,\n",
    "    button_style='info', # 'success', 'info', 'warning', 'danger' or ''\n",
    "    tooltip='Cliquer ici pour lancer la recherche',\n",
    "    icon='check' # (FontAwesome names without the `fa-` prefix)\n",
    ")\n",
    "\n",
    "# Fonction pour gérer l'événement de clic sur le bouton\n",
    "def on_bouton_executer_clicked(b):\n",
    "    mot_cle = mot_cle_widget.value\n",
    "    nombre_articles = nombre_articles_widget.value\n",
    "    # Ici, vous pouvez ajouter le code pour lancer la recherche\n",
    "    # et afficher les résultats, par exemple :\n",
    "    print(f\"Recherche avec le mot-clé: {mot_cle} pour {nombre_articles} articles\")\n",
    "\n",
    "# Attacher la fonction au bouton\n",
    "bouton_executer.on_click(on_bouton_executer_clicked)\n",
    "\n",
    "# Afficher les widgets\n",
    "display(mot_cle_widget, nombre_articles_widget, bouton_executer)\n"
   ]
  },
  {
   "cell_type": "code",
   "execution_count": 24,
   "id": "834d2e42",
   "metadata": {},
   "outputs": [
    {
     "data": {
      "application/vnd.jupyter.widget-view+json": {
       "model_id": "4deb710e71e14987a754ca36feb86e15",
       "version_major": 2,
       "version_minor": 0
      },
      "text/plain": [
       "VBox(children=(Text(value='', description='Nom de la recheche'), Text(value='', description='Séquence de reche…"
      ]
     },
     "execution_count": 24,
     "metadata": {},
     "output_type": "execute_result"
    }
   ],
   "source": [
    "import ipywidgets as widgets\n",
    "from IPython.display import display, clear_output\n",
    "from Fonctions_Acquisition_Donnees import *\n",
    "\n",
    "\n",
    "\n",
    "# Fonction de rappel pour le bouton\n",
    "def on_bouton_executer_clicked(b):\n",
    "    with output:\n",
    "        clear_output(wait=True)  # Efface les anciens résultats\n",
    "        try:\n",
    "            if mot_cle_widget.value.strip() == '' or nom_corpus_widget.value.strip() == '' :\n",
    "                print(\"Veuillez entrer un mot-clé de recherche et attribuer un nom au resulat de la recherche.\")\n",
    "                return\n",
    "            print(f\"Recherche avec le mot-clé: '{mot_cle_widget.value}' pour {nombre_articles_widget.value} articles\")\n",
    "            resultat = appliquer_recherche(nom_corpus_widget.value, mot_cle_widget.value, nombre_articles_widget.value)\n",
    "            display(resultat)\n",
    "        except Exception as e:\n",
    "            print(f\"Une erreur s'est produite: {e}\")\n",
    "\n",
    "# Widgets\n",
    "\n",
    "nom_corpus_widget = widgets.Text(\n",
    "    value='',\n",
    "    description='Nom de la recheche',\n",
    "    disabled=False\n",
    ")\n",
    "mot_cle_widget = widgets.Text(\n",
    "    value='',\n",
    "    description='Séquence de recherche:',\n",
    "    disabled=False\n",
    ")\n",
    "\n",
    "nombre_articles_widget = widgets.IntSlider(\n",
    "    value=100,\n",
    "    min=0,\n",
    "    max=200,\n",
    "    step=10,\n",
    "    description='Volume extraction:',\n",
    "    disabled=False,\n",
    "    continuous_update=False,\n",
    "    orientation='horizontal',\n",
    "    readout=True,\n",
    "    readout_format='d'\n",
    ")\n",
    "\n",
    "bouton_executer = widgets.Button(\n",
    "    description='Exécuter',\n",
    "    disabled=False,\n",
    "    button_style='info',\n",
    "    tooltip='Cliquer ici pour lancer la recherche',\n",
    "    icon='search'\n",
    ")\n",
    "\n",
    "# Zone d'affichage des résultats\n",
    "output = widgets.Output()\n",
    "\n",
    "# Configuration des événements\n",
    "bouton_executer.on_click(on_bouton_executer_clicked)\n",
    "\n",
    "# Mise en page\n",
    "widgets.VBox([nom_corpus_widget,mot_cle_widget, nombre_articles_widget, bouton_executer, output])\n"
   ]
  },
  {
   "cell_type": "code",
   "execution_count": 3,
   "id": "9d8b62c9",
   "metadata": {},
   "outputs": [],
   "source": []
  },
  {
   "cell_type": "code",
   "execution_count": null,
   "id": "beb05f57",
   "metadata": {},
   "outputs": [],
   "source": []
  },
  {
   "cell_type": "code",
   "execution_count": null,
   "id": "577c25d1",
   "metadata": {},
   "outputs": [],
   "source": []
  },
  {
   "cell_type": "code",
   "execution_count": null,
   "id": "3addd680",
   "metadata": {},
   "outputs": [],
   "source": []
  }
 ],
 "metadata": {
  "kernelspec": {
   "display_name": "Python 3 (ipykernel)",
   "language": "python",
   "name": "python3"
  },
  "language_info": {
   "codemirror_mode": {
    "name": "ipython",
    "version": 3
   },
   "file_extension": ".py",
   "mimetype": "text/x-python",
   "name": "python",
   "nbconvert_exporter": "python",
   "pygments_lexer": "ipython3",
   "version": "3.10.13"
  }
 },
 "nbformat": 4,
 "nbformat_minor": 5
}
