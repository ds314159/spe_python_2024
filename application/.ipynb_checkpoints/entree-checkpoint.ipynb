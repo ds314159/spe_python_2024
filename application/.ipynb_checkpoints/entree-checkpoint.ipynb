{
 "cells": [
  {
   "cell_type": "code",
   "execution_count": 1,
   "id": "26e1f876",
   "metadata": {
    "ExecuteTime": {
     "end_time": "2024-01-03T10:22:24.673415500Z",
     "start_time": "2024-01-03T10:22:24.452747Z"
    },
    "scrolled": true
   },
   "outputs": [],
   "source": [
    "%load_ext autoreload\n",
    "%autoreload 2\n",
    "from Classe_Interface import *\n",
    "from IPython.display import display, clear_output\n",
    "import warnings\n",
    "warnings.filterwarnings('ignore')\n",
    "interface = Interface()"
   ]
  },
  {
   "cell_type": "markdown",
   "id": "32d08773",
   "metadata": {},
   "source": [
    "# Construire et sauvegarder des Corpus\n"
   ]
  },
  {
   "cell_type": "code",
   "execution_count": 63,
   "id": "20a6c4c4",
   "metadata": {
    "ExecuteTime": {
     "end_time": "2024-01-03T10:22:28.419597300Z",
     "start_time": "2024-01-03T10:22:28.150056300Z"
    }
   },
   "outputs": [
    {
     "data": {
      "application/vnd.jupyter.widget-view+json": {
       "model_id": "c72d660450d742d1bcc74d5c13e18b1d",
       "version_major": 2,
       "version_minor": 0
      },
      "text/plain": [
       "VBox(children=(Text(value='', description='Nom de la recherche:', layout=Layout(width='500px'), style=TextStyl…"
      ]
     },
     "execution_count": 63,
     "metadata": {},
     "output_type": "execute_result"
    }
   ],
   "source": [
    "interface.creer_interface_recherche_corpus()"
   ]
  },
  {
   "cell_type": "markdown",
   "id": "f726e940",
   "metadata": {},
   "source": [
    "# Choisir un Corpus de Travail"
   ]
  },
  {
   "cell_type": "code",
   "execution_count": 2,
   "id": "bba4b7bb",
   "metadata": {
    "ExecuteTime": {
     "end_time": "2024-01-02T22:53:18.067376600Z",
     "start_time": "2024-01-02T22:53:17.529870300Z"
    }
   },
   "outputs": [
    {
     "data": {
      "application/vnd.jupyter.widget-view+json": {
       "model_id": "a2825bedd9674bd2bc16edd1039fe688",
       "version_major": 2,
       "version_minor": 0
      },
      "text/plain": [
       "VBox(children=(Select(description='Choisir un corpus:', options=('chimie.pkl', 'happyness.pkl', 'khgcv.pkl', '…"
      ]
     },
     "execution_count": 2,
     "metadata": {},
     "output_type": "execute_result"
    }
   ],
   "source": [
    "interface.creer_interface_chargement_corpus()\n"
   ]
  },
  {
   "cell_type": "markdown",
   "id": "69af8966",
   "metadata": {},
   "source": [
    "# Observation et analyse"
   ]
  },
  {
   "cell_type": "code",
   "execution_count": 5,
   "id": "a44d2991",
   "metadata": {},
   "outputs": [
    {
     "data": {
      "application/vnd.jupyter.widget-view+json": {
       "model_id": "dfd5caabca7a4ddc92ed6ee4ccb45471",
       "version_major": 2,
       "version_minor": 0
      },
      "text/plain": [
       "VBox(children=(IntSlider(value=200, description='Choisir le nombre de mots à afficher dans le nuage:', layout=…"
      ]
     },
     "execution_count": 5,
     "metadata": {},
     "output_type": "execute_result"
    }
   ],
   "source": [
    "interface.construire_vision_ensemble_corpus()"
   ]
  },
  {
   "cell_type": "markdown",
   "id": "299a41ea",
   "metadata": {},
   "source": [
    "# recherche d'une séquence particulière"
   ]
  },
  {
   "cell_type": "code",
   "execution_count": 87,
   "id": "68f929ac",
   "metadata": {},
   "outputs": [
    {
     "data": {
      "application/vnd.jupyter.widget-view+json": {
       "model_id": "307fbc6de9e94f9e9d21cbaf5be87f26",
       "version_major": 2,
       "version_minor": 0
      },
      "text/plain": [
       "VBox(children=(Text(value='', description='Séquence de recherche:', layout=Layout(width='500px'), style=TextSt…"
      ]
     },
     "execution_count": 87,
     "metadata": {},
     "output_type": "execute_result"
    }
   ],
   "source": [
    "interface.construire_recherche_sequence_dans_corpus()"
   ]
  },
  {
   "cell_type": "code",
   "execution_count": 82,
   "id": "d8a2ca81",
   "metadata": {},
   "outputs": [
    {
     "data": {
      "application/vnd.jupyter.widget-view+json": {
       "model_id": "c41c1199d57a46238f5010fd14289f02",
       "version_major": 2,
       "version_minor": 0
      },
      "text/plain": [
       "VBox(children=(Text(value='', description='Expression:', layout=Layout(width='500px'), style=TextStyle(descrip…"
      ]
     },
     "execution_count": 82,
     "metadata": {},
     "output_type": "execute_result"
    }
   ],
   "source": [
    "interface.construire_interface_concorde()"
   ]
  },
  {
   "cell_type": "code",
   "execution_count": 4,
   "id": "1e92c5bb",
   "metadata": {},
   "outputs": [
    {
     "data": {
      "application/vnd.jupyter.widget-view+json": {
       "model_id": "1719e6bd910d44dcbba9e0e867cf1291",
       "version_major": 2,
       "version_minor": 0
      },
      "text/plain": [
       "VBox(children=(DatePicker(value=None, description='Choisir une date:', layout=Layout(width='500px'), step=1, s…"
      ]
     },
     "execution_count": 4,
     "metadata": {},
     "output_type": "execute_result"
    },
    {
     "ename": "ValueError",
     "evalue": "year 22015 is out of range",
     "output_type": "error",
     "traceback": [
      "\u001b[1;31m---------------------------------------------------------------------------\u001b[0m",
      "\u001b[1;31mValueError\u001b[0m                                Traceback (most recent call last)",
      "File \u001b[1;32mC:\\ProgramData\\anaconda3\\Lib\\site-packages\\ipywidgets\\widgets\\widget.py:766\u001b[0m, in \u001b[0;36mWidget._handle_msg\u001b[1;34m(self, msg)\u001b[0m\n\u001b[0;32m    764\u001b[0m         \u001b[38;5;28;01mif\u001b[39;00m \u001b[38;5;124m'\u001b[39m\u001b[38;5;124mbuffer_paths\u001b[39m\u001b[38;5;124m'\u001b[39m \u001b[38;5;129;01min\u001b[39;00m data:\n\u001b[0;32m    765\u001b[0m             _put_buffers(state, data[\u001b[38;5;124m'\u001b[39m\u001b[38;5;124mbuffer_paths\u001b[39m\u001b[38;5;124m'\u001b[39m], msg[\u001b[38;5;124m'\u001b[39m\u001b[38;5;124mbuffers\u001b[39m\u001b[38;5;124m'\u001b[39m])\n\u001b[1;32m--> 766\u001b[0m         \u001b[38;5;28mself\u001b[39m\u001b[38;5;241m.\u001b[39mset_state(state)\n\u001b[0;32m    768\u001b[0m \u001b[38;5;66;03m# Handle a state request.\u001b[39;00m\n\u001b[0;32m    769\u001b[0m \u001b[38;5;28;01melif\u001b[39;00m method \u001b[38;5;241m==\u001b[39m \u001b[38;5;124m'\u001b[39m\u001b[38;5;124mrequest_state\u001b[39m\u001b[38;5;124m'\u001b[39m:\n",
      "File \u001b[1;32mC:\\ProgramData\\anaconda3\\Lib\\site-packages\\ipywidgets\\widgets\\widget.py:648\u001b[0m, in \u001b[0;36mWidget.set_state\u001b[1;34m(self, sync_data)\u001b[0m\n\u001b[0;32m    645\u001b[0m \u001b[38;5;28;01mif\u001b[39;00m name \u001b[38;5;129;01min\u001b[39;00m \u001b[38;5;28mself\u001b[39m\u001b[38;5;241m.\u001b[39mkeys:\n\u001b[0;32m    646\u001b[0m     from_json \u001b[38;5;241m=\u001b[39m \u001b[38;5;28mself\u001b[39m\u001b[38;5;241m.\u001b[39mtrait_metadata(name, \u001b[38;5;124m'\u001b[39m\u001b[38;5;124mfrom_json\u001b[39m\u001b[38;5;124m'\u001b[39m,\n\u001b[0;32m    647\u001b[0m                                     \u001b[38;5;28mself\u001b[39m\u001b[38;5;241m.\u001b[39m_trait_from_json)\n\u001b[1;32m--> 648\u001b[0m     \u001b[38;5;28mself\u001b[39m\u001b[38;5;241m.\u001b[39mset_trait(name, from_json(sync_data[name], \u001b[38;5;28mself\u001b[39m))\n",
      "File \u001b[1;32mC:\\ProgramData\\anaconda3\\Lib\\site-packages\\ipywidgets\\widgets\\trait_types.py:213\u001b[0m, in \u001b[0;36mdate_from_json\u001b[1;34m(js, manager)\u001b[0m\n\u001b[0;32m    211\u001b[0m     \u001b[38;5;28;01mreturn\u001b[39;00m \u001b[38;5;28;01mNone\u001b[39;00m\n\u001b[0;32m    212\u001b[0m \u001b[38;5;28;01melse\u001b[39;00m:\n\u001b[1;32m--> 213\u001b[0m     \u001b[38;5;28;01mreturn\u001b[39;00m dt\u001b[38;5;241m.\u001b[39mdate(\n\u001b[0;32m    214\u001b[0m         js[\u001b[38;5;124m'\u001b[39m\u001b[38;5;124myear\u001b[39m\u001b[38;5;124m'\u001b[39m],\n\u001b[0;32m    215\u001b[0m         js[\u001b[38;5;124m'\u001b[39m\u001b[38;5;124mmonth\u001b[39m\u001b[38;5;124m'\u001b[39m] \u001b[38;5;241m+\u001b[39m \u001b[38;5;241m1\u001b[39m,  \u001b[38;5;66;03m# Months are 1-based in Python\u001b[39;00m\n\u001b[0;32m    216\u001b[0m         js[\u001b[38;5;124m'\u001b[39m\u001b[38;5;124mdate\u001b[39m\u001b[38;5;124m'\u001b[39m],\n\u001b[0;32m    217\u001b[0m     )\n",
      "\u001b[1;31mValueError\u001b[0m: year 22015 is out of range"
     ]
    }
   ],
   "source": [
    "interface.diviser_et_afficher_sous_corpus()"
   ]
  }
 ],
 "metadata": {
  "kernelspec": {
   "display_name": "Python 3 (ipykernel)",
   "language": "python",
   "name": "python3"
  },
  "language_info": {
   "codemirror_mode": {
    "name": "ipython",
    "version": 3
   },
   "file_extension": ".py",
   "mimetype": "text/x-python",
   "name": "python",
   "nbconvert_exporter": "python",
   "pygments_lexer": "ipython3",
   "version": "3.11.4"
  }
 },
 "nbformat": 4,
 "nbformat_minor": 5
}
